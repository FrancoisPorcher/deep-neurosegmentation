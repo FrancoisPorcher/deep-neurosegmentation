{
 "cells": [
  {
   "cell_type": "markdown",
   "metadata": {},
   "source": [
    "# Libraries"
   ]
  },
  {
   "cell_type": "code",
   "execution_count": 1,
   "metadata": {},
   "outputs": [],
   "source": [
    "import sys\n",
    "sys.path.append('..')  # Adds the project root to the path\n",
    "\n",
    "%load_ext autoreload\n",
    "%autoreload 2\n",
    "\n",
    "from utils.visualization import *\n",
    "import configparser\n",
    "\n",
    "# Read the configuration file\n",
    "config = configparser.ConfigParser()\n",
    "config.read('/home/fp427/rds/rds-cam-segm-7tts6phZ4tw/deep-neurosegmentation/config.ini')\n",
    "\n",
    "\n",
    "# Retrieve the path for min boggle\n",
    "mindboggle_path = config['DIRECTORIES']['mindboggle']\n",
    "dbb_path = config['DIRECTORIES']['dbb']\n",
    "dbb_augmented_path = config['DIRECTORIES']['dbb_augmented']\n",
    "feta_path = config['DIRECTORIES']['feta']\n"
   ]
  },
  {
   "cell_type": "code",
   "execution_count": 2,
   "metadata": {},
   "outputs": [
    {
     "data": {
      "text/plain": [
       "'/rds/project/rds-7tts6phZ4tw/deep-neurosegmentation/data/processed/feta'"
      ]
     },
     "execution_count": 2,
     "metadata": {},
     "output_type": "execute_result"
    }
   ],
   "source": [
    "feta_path"
   ]
  },
  {
   "cell_type": "markdown",
   "metadata": {},
   "source": [
    "# 1. Visualize MindBoggle"
   ]
  },
  {
   "cell_type": "code",
   "execution_count": null,
   "metadata": {},
   "outputs": [],
   "source": [
    "ground_truth_path, input_path, segmentation_path = get_random_file_paths(mindboggle_path)\n",
    "ground_truth_data, input_data, segmentation_data = load_nifti_triplet(ground_truth_path, input_path, segmentation_path)"
   ]
  },
  {
   "cell_type": "code",
   "execution_count": null,
   "metadata": {},
   "outputs": [],
   "source": [
    "# Report data information\n",
    "report_data_info(ground_truth_data, input_data, segmentation_data)"
   ]
  },
  {
   "cell_type": "code",
   "execution_count": null,
   "metadata": {},
   "outputs": [],
   "source": [
    "import ipywidgets as widgets\n",
    "from ipywidgets import interactive\n",
    "import matplotlib.pyplot as plt\n",
    "import numpy as np\n",
    "from matplotlib.colors import ListedColormap\n",
    "\n",
    "def plot_mindboggle_slices(ground_truth_data, input_data, segmentation_data, slice_idx=0):\n",
    "    fig, axes = plt.subplots(1, 3, figsize=(15, 5))\n",
    "\n",
    "    # Get the colormap objects\n",
    "    gray_cmap = plt.get_cmap('gray')\n",
    "\n",
    "    axes[0].imshow(ground_truth_data[:, :, slice_idx], cmap=gray_cmap)\n",
    "    axes[0].set_title('Ground Truth')\n",
    "    axes[0].axis('off')\n",
    "\n",
    "    axes[1].imshow(input_data[:, :, slice_idx], cmap=gray_cmap)\n",
    "    axes[1].set_title('Input')\n",
    "    axes[1].axis('off')\n",
    "\n",
    "    # Create a custom colormap for segmentation\n",
    "    custom_colors = ['black', 'gray', 'white', 'red', 'orange']\n",
    "    custom_cmap = ListedColormap(custom_colors)\n",
    "    \n",
    "    axes[2].imshow(segmentation_data[:, :, slice_idx], cmap=custom_cmap, vmin=0, vmax=len(custom_colors) - 1)\n",
    "    axes[2].set_title('Segmentation')\n",
    "    axes[2].axis('off')\n",
    "\n",
    "    fig.subplots_adjust(wspace=0.05)\n",
    "\n",
    "    # Create a legend with the custom colors\n",
    "    labels = ['Background', 'Cortical gray matter', 'Cortical white matter', 'Cerebellum gray', 'Cerebellum white']\n",
    "    lines = [plt.Line2D([0], [0], color=c, lw=4) for c in custom_colors]\n",
    "    fig.legend(lines, labels, loc='lower center', ncol=5)\n",
    "\n",
    "    return fig\n",
    "\n",
    "# Assuming the data arrays ground_truth_data, input_data, and segmentation_data are already loaded\n",
    "# Create an interactive slider for Mindboggle dataset\n",
    "slice_slider_mindboggle = widgets.IntSlider(value=0, min=0, max=ground_truth_data.shape[2] - 1)\n",
    "interact_mindboggle = interactive(plot_mindboggle_slices, ground_truth_data=widgets.fixed(ground_truth_data), input_data=widgets.fixed(input_data), segmentation_data=widgets.fixed(segmentation_data), slice_idx=slice_slider_mindboggle)\n",
    "display(interact_mindboggle)\n"
   ]
  },
  {
   "cell_type": "markdown",
   "metadata": {},
   "source": [
    "# 2. Visualize DBB"
   ]
  },
  {
   "cell_type": "code",
   "execution_count": null,
   "metadata": {},
   "outputs": [],
   "source": [
    "ground_truth_path, input_path, segmentation_path = get_random_file_paths(dbb_path)\n",
    "ground_truth_data, input_data, segmentation_data = load_nifti_triplet(ground_truth_path, input_path, segmentation_path)"
   ]
  },
  {
   "cell_type": "code",
   "execution_count": null,
   "metadata": {},
   "outputs": [],
   "source": [
    "# Report data information\n",
    "report_data_info(ground_truth_data, input_data, segmentation_data)"
   ]
  },
  {
   "cell_type": "code",
   "execution_count": null,
   "metadata": {},
   "outputs": [],
   "source": [
    "import ipywidgets as widgets\n",
    "from ipywidgets import interactive\n",
    "import matplotlib.pyplot as plt\n",
    "import numpy as np\n",
    "from matplotlib.colors import ListedColormap\n",
    "\n",
    "def plot_dbb_slices(ground_truth_data, input_data, segmentation_data, slice_idx=0):\n",
    "    fig, axes = plt.subplots(1, 3, figsize=(15, 5))\n",
    "\n",
    "    # Get the colormap objects\n",
    "    gray_cmap = plt.get_cmap('gray')\n",
    "\n",
    "    axes[0].imshow(ground_truth_data[:, :, slice_idx], cmap=gray_cmap)\n",
    "    axes[0].set_title('Ground Truth')\n",
    "    axes[0].axis('off')\n",
    "\n",
    "    axes[1].imshow(input_data[:, :, slice_idx], cmap=gray_cmap)\n",
    "    axes[1].set_title('Input')\n",
    "    axes[1].axis('off')\n",
    "\n",
    "    # Create a custom colormap for segmentation\n",
    "    custom_colors = ['black', 'blue', 'gray', 'white', 'purple', 'red', 'orange']\n",
    "    custom_cmap = ListedColormap(custom_colors)\n",
    "    \n",
    "    axes[2].imshow(segmentation_data[:, :, slice_idx], cmap=custom_cmap, vmin=0, vmax=len(custom_colors) - 1)\n",
    "    axes[2].set_title('Segmentation')\n",
    "    axes[2].axis('off')\n",
    "\n",
    "    fig.subplots_adjust(wspace=0.05)\n",
    "\n",
    "    # Create a legend with the custom colors\n",
    "    labels = ['Background', 'Cerebrospinal Fluid', 'Gray Matter', 'White Matter', 'Subcortical Gray Matter', 'Brain Stem', 'Cerebellum']\n",
    "    lines = [plt.Line2D([0], [0], color=c, lw=4) for c in custom_colors]\n",
    "    fig.legend(lines, labels, loc='lower center', ncol=7)\n",
    "\n",
    "    return fig\n",
    "\n",
    "# Assuming the data arrays ground_truth_data, input_data, and segmentation_data are already loaded\n",
    "# Create an interactive slider for DBB dataset\n",
    "slice_slider_dbb = widgets.IntSlider(value=0, min=0, max=ground_truth_data.shape[2] - 1)\n",
    "interact_dbb = interactive(plot_dbb_slices, ground_truth_data=widgets.fixed(ground_truth_data), input_data=widgets.fixed(input_data), segmentation_data=widgets.fixed(segmentation_data), slice_idx=slice_slider_dbb)\n",
    "display(interact_dbb)\n"
   ]
  },
  {
   "cell_type": "code",
   "execution_count": null,
   "metadata": {},
   "outputs": [],
   "source": []
  },
  {
   "cell_type": "markdown",
   "metadata": {},
   "source": [
    "# 4. Visualize Feta"
   ]
  },
  {
   "cell_type": "code",
   "execution_count": 4,
   "metadata": {},
   "outputs": [
    {
     "name": "stdout",
     "output_type": "stream",
     "text": [
      "==============================\n",
      "Getting a random file from directory\n",
      "==============================\n",
      "Random file: sub-075_rec-irtk_T2w.nii.gz\n",
      "------------------------------\n",
      "Input path: /rds/project/rds-7tts6phZ4tw/deep-neurosegmentation/data/processed/feta/input/sub-075_rec-irtk_T2w.nii.gz\n",
      "------------------------------\n",
      "Ground truth path: /rds/project/rds-7tts6phZ4tw/deep-neurosegmentation/data/processed/feta/ground_truth/sub-075_rec-irtk_T2w.nii.gz\n",
      "Segmentation path: /rds/project/rds-7tts6phZ4tw/deep-neurosegmentation/data/processed/feta/segmentation/sub-075_rec-irtk_T2w.nii.gz\n",
      "==============================\n",
      "\n",
      "==============================\n",
      "\n",
      "\n",
      "\n",
      "==============================\n",
      "Loading nifti files..\n",
      "==============================\n",
      "Ground Truth Data (from /rds/project/rds-7tts6phZ4tw/deep-neurosegmentation/data/processed/feta/ground_truth/sub-075_rec-irtk_T2w.nii.gz):\n",
      "Shape: (256, 256, 256)\n",
      "------------------------------\n",
      "\n",
      "------------------------------\n",
      "Input Data (from /rds/project/rds-7tts6phZ4tw/deep-neurosegmentation/data/processed/feta/input/sub-075_rec-irtk_T2w.nii.gz):\n",
      "Shape: (256, 256, 256)\n",
      "------------------------------\n",
      "\n",
      "------------------------------\n",
      "Segmentation Data (from /rds/project/rds-7tts6phZ4tw/deep-neurosegmentation/data/processed/feta/segmentation/sub-075_rec-irtk_T2w.nii.gz):\n",
      "Shape: (256, 256, 256)\n",
      "==============================\n",
      "\n",
      "==============================\n",
      "\n",
      "\n",
      "\n"
     ]
    }
   ],
   "source": [
    "ground_truth_path, input_path, segmentation_path = get_random_file_paths(feta_path)\n",
    "ground_truth_data, input_data, segmentation_data = load_nifti_triplet(ground_truth_path, input_path, segmentation_path)"
   ]
  },
  {
   "cell_type": "code",
   "execution_count": 5,
   "metadata": {},
   "outputs": [
    {
     "name": "stdout",
     "output_type": "stream",
     "text": [
      "==============================\n",
      "Data Information\n",
      "==============================\n",
      "\n",
      "Ground Truth Data:\n",
      "------------------------------\n",
      "\n",
      "------------------------------\n",
      "Data Type: float64\n",
      "Number of Unique Values: 8\n",
      "\n",
      "Input Data:\n",
      "------------------------------\n",
      "\n",
      "------------------------------\n",
      "Data Type: float64\n",
      "Number of Unique Values: 2868618\n",
      "\n",
      "Segmentation Data:\n",
      "------------------------------\n",
      "\n",
      "------------------------------\n",
      "Data Type: float64\n",
      "Number of Unique Values: 8\n",
      "==============================\n",
      "\n",
      "==============================\n",
      "\n",
      "\n",
      "\n"
     ]
    },
    {
     "data": {
      "image/png": "[encoded data removed]",
      "text/plain": [
       "<Figure size 1500x500 with 3 Axes>"
      ]
     },
     "metadata": {},
     "output_type": "display_data"
    }
   ],
   "source": [
    "# Report data information\n",
    "report_data_info(ground_truth_data, input_data, segmentation_data)"
   ]
  },
  {
   "cell_type": "code",
   "execution_count": 7,
   "metadata": {},
   "outputs": [
    {
     "data": {
      "application/vnd.jupyter.widget-view+json": {
       "model_id": "64ebede228ee4d5c9e6aa009de9106e4",
       "version_major": 2,
       "version_minor": 0
      },
      "text/plain": [
       "interactive(children=(IntSlider(value=0, description='slice_idx', max=255), Output()), _dom_classes=('widget-i…"
      ]
     },
     "metadata": {},
     "output_type": "display_data"
    }
   ],
   "source": [
    "import ipywidgets as widgets\n",
    "from ipywidgets import interactive\n",
    "import matplotlib.pyplot as plt\n",
    "import numpy as np\n",
    "import matplotlib.colors as mcolors\n",
    "\n",
    "def plot_feta_slices(ground_truth_data, input_data, segmentation_data, slice_idx=0):\n",
    "    fig, axes = plt.subplots(1, 3, figsize=(15, 5))\n",
    "\n",
    "    # Define custom colormap for segmentation\n",
    "    colors = [\n",
    "        'black',  # Background and Non-Brain Tissue (BG)\n",
    "        'blue',   # External CSF (CSF)\n",
    "        'gray',   # Grey Matter (GM)\n",
    "        'white',  # White Matter (WM)\n",
    "        'red',    # Ventricles (LV)\n",
    "        'orange', # Cerebellum (CBM)\n",
    "        'green',  # Deep Grey Matter (SGM)\n",
    "        'yellow'  # Brainstem (BS)\n",
    "    ]\n",
    "    cmap = mcolors.ListedColormap(colors)\n",
    "\n",
    "    # Plot Ground Truth\n",
    "    axes[0].imshow(ground_truth_data[:, :, slice_idx], cmap='gray')\n",
    "    axes[0].set_title('Ground Truth')\n",
    "    axes[0].axis('off')\n",
    "\n",
    "    # Plot Input Data\n",
    "    axes[1].imshow(input_data[:, :, slice_idx], cmap='gray')\n",
    "    axes[1].set_title('Input')\n",
    "    axes[1].axis('off')\n",
    "\n",
    "    # Plot Segmentation Data\n",
    "    axes[2].imshow(segmentation_data[:, :, slice_idx], cmap=cmap)\n",
    "    axes[2].set_title('Segmentation')\n",
    "    axes[2].axis('off')\n",
    "\n",
    "    fig.subplots_adjust(wspace=0.05)\n",
    "\n",
    "    # Create a legend for 8 classes (0 = background)\n",
    "    labels = [\n",
    "        'Background and Non-Brain Tissue (BG)',\n",
    "        'External CSF (CSF)',\n",
    "        'Grey Matter (GM)',\n",
    "        'White Matter (WM)',\n",
    "        'Ventricles (LV)',\n",
    "        'Cerebellum (CBM)',\n",
    "        'Deep Grey Matter (SGM)',\n",
    "        'Brainstem (BS)'\n",
    "    ]\n",
    "    lines = [plt.Line2D([0], [0], color=c, lw=4) for c in colors]\n",
    "    fig.legend(lines, labels, loc='lower center', ncol=4)\n",
    "\n",
    "    return fig\n",
    "\n",
    "# Create an interactive slider for FeTA dataset\n",
    "slice_slider_feta = widgets.IntSlider(value=0, min=0, max=ground_truth_data.shape[2] - 1)\n",
    "interact_feta = interactive(plot_feta_slices, ground_truth_data=widgets.fixed(ground_truth_data), \n",
    "                            input_data=widgets.fixed(input_data), \n",
    "                            segmentation_data=widgets.fixed(segmentation_data), \n",
    "                            slice_idx=slice_slider_feta)\n",
    "display(interact_feta)\n"
   ]
  },
  {
   "cell_type": "code",
   "execution_count": null,
   "metadata": {},
   "outputs": [],
   "source": []
  }
 ],
 "metadata": {
  "kernelspec": {
   "display_name": "neurosegmentation",
   "language": "python",
   "name": "python3"
  },
  "language_info": {
   "codemirror_mode": {
    "name": "ipython",
    "version": 3
   },
   "file_extension": ".py",
   "mimetype": "text/x-python",
   "name": "python",
   "nbconvert_exporter": "python",
   "pygments_lexer": "ipython3",
   "version": "3.9.19"
  }
 },
 "nbformat": 4,
 "nbformat_minor": 2
}
