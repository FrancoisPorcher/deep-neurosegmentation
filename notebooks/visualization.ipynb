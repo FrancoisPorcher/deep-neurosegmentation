{
 "cells": [
  {
   "cell_type": "markdown",
   "metadata": {},
   "source": [
    "# Libraries"
   ]
  },
  {
   "cell_type": "code",
   "execution_count": 1,
   "metadata": {},
   "outputs": [
    {
     "name": "stdout",
     "output_type": "stream",
     "text": [
      "Path for mindboggle: /rds/project/rds-7tts6phZ4tw/deep-neurosegmentation/data/processed/mindboggle\n"
     ]
    }
   ],
   "source": [
    "import sys\n",
    "sys.path.append('..')  # Adds the project root to the path\n",
    "\n",
    "%load_ext autoreload\n",
    "%autoreload 2\n",
    "\n",
    "from utils.visualization import *\n",
    "import configparser\n",
    "\n",
    "# Read the configuration file\n",
    "config = configparser.ConfigParser()\n",
    "config.read('/home/fp427/rds/rds-cam-segm-7tts6phZ4tw/deep-neurosegmentation/config.ini')\n",
    "\n",
    "\n",
    "# Retrieve the path for min boggle\n",
    "mindboggle_path = config['DIRECTORIES']['mindboggle']\n",
    "\n",
    "print(f\"Path for mindboggle: {mindboggle_path}\")"
   ]
  },
  {
   "cell_type": "markdown",
   "metadata": {},
   "source": [
    "# Visualize MindBoggle"
   ]
  },
  {
   "cell_type": "code",
   "execution_count": 2,
   "metadata": {},
   "outputs": [
    {
     "name": "stdout",
     "output_type": "stream",
     "text": [
      "==============================\n",
      "Getting a random file from directory\n",
      "==============================\n",
      "Random file: NKI-RS-22-4.nii.gz\n",
      "------------------------------\n",
      "Ground truth path: /rds/project/rds-7tts6phZ4tw/deep-neurosegmentation/data/processed/mindboggle/ground_truth/NKI-RS-22-4.nii.gz\n",
      "Input path: /rds/project/rds-7tts6phZ4tw/deep-neurosegmentation/data/processed/mindboggle/input/NKI-RS-22-4.nii.gz\n",
      "Segmentation path: /rds/project/rds-7tts6phZ4tw/deep-neurosegmentation/data/processed/mindboggle/segmentation/NKI-RS-22-4.nii.gz\n",
      "==============================\n",
      "\n",
      "\n",
      "\n",
      "==============================\n",
      "Loading nifti files..\n",
      "==============================\n",
      "Ground Truth Data (from /rds/project/rds-7tts6phZ4tw/deep-neurosegmentation/data/processed/mindboggle/ground_truth/NKI-RS-22-4.nii.gz):\n",
      "Shape: (192, 256, 256)\n",
      "------------------------------\n",
      "Input Data (from /rds/project/rds-7tts6phZ4tw/deep-neurosegmentation/data/processed/mindboggle/input/NKI-RS-22-4.nii.gz):\n",
      "Shape: (192, 256, 256)\n",
      "------------------------------\n",
      "Segmentation Data (from /rds/project/rds-7tts6phZ4tw/deep-neurosegmentation/data/processed/mindboggle/segmentation/NKI-RS-22-4.nii.gz):\n",
      "Shape: (192, 256, 256)\n",
      "==============================\n",
      "\n",
      "\n",
      "\n"
     ]
    }
   ],
   "source": [
    "ground_truth_path, input_path, segmentation_path = get_random_file_paths(mindboggle_path)\n",
    "ground_truth_data, input_data, segmentation_data = load_files(ground_truth_path, input_path, segmentation_path)"
   ]
  },
  {
   "cell_type": "code",
   "execution_count": 3,
   "metadata": {},
   "outputs": [
    {
     "name": "stdout",
     "output_type": "stream",
     "text": [
      "==============================\n",
      "Data Information\n",
      "==============================\n",
      "\n",
      "Ground Truth Data:\n",
      "------------------------------\n",
      "Data Type: float64\n",
      "Number of Unique Values: 107\n",
      "\n",
      "Input Data:\n",
      "------------------------------\n",
      "Data Type: float64\n",
      "Number of Unique Values: 990\n",
      "\n",
      "Segmentation Data:\n",
      "------------------------------\n",
      "Data Type: float64\n",
      "Number of Unique Values: 5\n",
      "==============================\n",
      "\n",
      "\n",
      "\n"
     ]
    },
    {
     "data": {
      "image/png": "[encoded data removed]",
      "text/plain": [
       "<Figure size 1500x500 with 3 Axes>"
      ]
     },
     "metadata": {},
     "output_type": "display_data"
    }
   ],
   "source": [
    "# Report data information\n",
    "report_data_info(ground_truth_data, input_data, segmentation_data)"
   ]
  },
  {
   "cell_type": "code",
   "execution_count": 4,
   "metadata": {},
   "outputs": [
    {
     "data": {
      "application/vnd.jupyter.widget-view+json": {
       "model_id": "e75bffdb9bc2489db374e2599d5c0ef9",
       "version_major": 2,
       "version_minor": 0
      },
      "text/plain": [
       "interactive(children=(IntSlider(value=0, description='slice_idx', max=255), Output()), _dom_classes=('widget-i…"
      ]
     },
     "metadata": {},
     "output_type": "display_data"
    }
   ],
   "source": [
    "import ipywidgets as widgets\n",
    "from ipywidgets import interactive\n",
    "import matplotlib.pyplot as plt\n",
    "import numpy as np\n",
    "\n",
    "def plot_slices(ground_truth_data, input_data, segmentation_data, slice_idx=0):\n",
    "    fig, axes = plt.subplots(1, 3, figsize=(15, 5))\n",
    "\n",
    "    # Get the colormap objects\n",
    "    gray_cmap = plt.get_cmap('gray')\n",
    "    nipy_spectral_cmap = plt.get_cmap('nipy_spectral')\n",
    "\n",
    "    axes[0].imshow(ground_truth_data[:, :, slice_idx], cmap=gray_cmap)\n",
    "    axes[0].set_title('Ground Truth')\n",
    "    axes[0].axis('off')\n",
    "\n",
    "    axes[1].imshow(input_data[:, :, slice_idx], cmap=gray_cmap)\n",
    "    axes[1].set_title('Input')\n",
    "    axes[1].axis('off')\n",
    "\n",
    "    axes[2].imshow(segmentation_data[:, :, slice_idx], cmap=nipy_spectral_cmap)\n",
    "    axes[2].set_title('Segmentation')\n",
    "    axes[2].axis('off')\n",
    "\n",
    "    fig.subplots_adjust(wspace=0.05)\n",
    "\n",
    "    # Create a legend\n",
    "    colors = [nipy_spectral_cmap(i) for i in np.linspace(0, 1, 5)]\n",
    "    labels = ['Label 1', 'Label 2', 'Label 3', 'Label 4', 'Label 5']\n",
    "    lines = [plt.Line2D([0], [0], color=c, lw=4) for c in colors]\n",
    "    fig.legend(lines, labels, loc='lower center', ncol=5)\n",
    "\n",
    "    return fig\n",
    "\n",
    "# Create an interactive slider\n",
    "slice_slider = widgets.IntSlider(value=0, min=0, max=ground_truth_data.shape[2] - 1)\n",
    "interact = interactive(plot_slices, ground_truth_data=widgets.fixed(ground_truth_data), input_data=widgets.fixed(input_data), segmentation_data=widgets.fixed(segmentation_data), slice_idx=slice_slider)\n",
    "display(interact)"
   ]
  },
  {
   "cell_type": "code",
   "execution_count": null,
   "metadata": {},
   "outputs": [],
   "source": []
  },
  {
   "cell_type": "code",
   "execution_count": null,
   "metadata": {},
   "outputs": [],
   "source": []
  }
 ],
 "metadata": {
  "kernelspec": {
   "display_name": "neurosegmentation",
   "language": "python",
   "name": "python3"
  },
  "language_info": {
   "codemirror_mode": {
    "name": "ipython",
    "version": 3
   },
   "file_extension": ".py",
   "mimetype": "text/x-python",
   "name": "python",
   "nbconvert_exporter": "python",
   "pygments_lexer": "ipython3",
   "version": "3.9.19"
  }
 },
 "nbformat": 4,
 "nbformat_minor": 2
}
