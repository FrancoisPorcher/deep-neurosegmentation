{
 "cells": [
  {
   "cell_type": "code",
   "execution_count": 1,
   "metadata": {},
   "outputs": [],
   "source": [
    "import os\n",
    "import nibabel as nib\n",
    "import pandas as pd\n",
    "import matplotlib.pyplot as plt\n",
    "\n",
    "DBB_jakob_path = \"/home/fp427/rds/rds-cam-segm-7tts6phZ4tw/deep-neurosegmentation/data/raw/BrainLife/DBB_jakob\"\n",
    "iteration_1_path = os.path.join(DBB_jakob_path, \"iteration_1\")\n",
    "\n",
    "\n",
    "sub_1_im_path = \"/home/fp427/rds/rds-cam-segm-7tts6phZ4tw/deep-neurosegmentation/data/raw/BrainLife/DBB_jakob/iteration_1/sub-0001_im.nii.gz\"\n",
    "sub_1_lab_path = \"/home/fp427/rds/rds-cam-segm-7tts6phZ4tw/deep-neurosegmentation/data/raw/BrainLife/DBB_jakob/iteration_1/sub-0001_lab.nii.gz\"\n",
    "\n",
    "sub_8_im_path = \"/home/fp427/rds/rds-cam-segm-7tts6phZ4tw/deep-neurosegmentation/data/raw/BrainLife/DBB_jakob/iteration_1/sub-0008_im.nii.gz\"\n",
    "sub_8_lab_path = \"/home/fp427/rds/rds-cam-segm-7tts6phZ4tw/deep-neurosegmentation/data/raw/BrainLife/DBB_jakob/iteration_1/sub-0008_lab.nii.gz\"\n",
    "\n",
    "sub_20_im_path = \"/home/fp427/rds/rds-cam-segm-7tts6phZ4tw/deep-neurosegmentation/data/raw/BrainLife/DBB_jakob/iteration_1/sub-0020_im.nii.gz\"\n",
    "sub_20_lab_path = \"/home/fp427/rds/rds-cam-segm-7tts6phZ4tw/deep-neurosegmentation/data/raw/BrainLife/DBB_jakob/iteration_1/sub-0020_lab.nii.gz\"\n",
    "\n",
    "# load im and lab for sub_1\n",
    "sub_1_im = nib.load(sub_1_im_path)\n",
    "sub_1_lab = nib.load(sub_1_lab_path)\n",
    "\n",
    "sub_1_im_data = sub_1_im.get_fdata()\n",
    "sub_1_lab_data = sub_1_lab.get_fdata()"
   ]
  },
  {
   "cell_type": "code",
   "execution_count": 2,
   "metadata": {},
   "outputs": [],
   "source": [
    "import numpy as np\n",
    "unique_classes = np.unique(sub_1_lab_data)"
   ]
  },
  {
   "cell_type": "code",
   "execution_count": 3,
   "metadata": {},
   "outputs": [
    {
     "data": {
      "text/plain": [
       "array([0., 1., 2., 3., 4., 5., 6.])"
      ]
     },
     "execution_count": 3,
     "metadata": {},
     "output_type": "execute_result"
    }
   ],
   "source": [
    "unique_classes"
   ]
  },
  {
   "cell_type": "code",
   "execution_count": 4,
   "metadata": {},
   "outputs": [
    {
     "data": {
      "text/plain": [
       "(182, 218, 182)"
      ]
     },
     "execution_count": 4,
     "metadata": {},
     "output_type": "execute_result"
    }
   ],
   "source": [
    "sub_1_im.shape"
   ]
  },
  {
   "cell_type": "code",
   "execution_count": 5,
   "metadata": {},
   "outputs": [],
   "source": [
    "sub_1_lab_data = sub_1_lab_data.astype(int)\n"
   ]
  },
  {
   "cell_type": "code",
   "execution_count": 6,
   "metadata": {},
   "outputs": [
    {
     "data": {
      "application/vnd.jupyter.widget-view+json": {
       "model_id": "68cc03946e63428dbc7189a44bcf4c28",
       "version_major": 2,
       "version_minor": 0
      },
      "text/plain": [
       "IntSlider(value=91, description='Slice Index', max=181)"
      ]
     },
     "metadata": {},
     "output_type": "display_data"
    },
    {
     "data": {
      "application/vnd.jupyter.widget-view+json": {
       "model_id": "bd2a99a940bb4413b0283a7be0330af6",
       "version_major": 2,
       "version_minor": 0
      },
      "text/plain": [
       "Output()"
      ]
     },
     "metadata": {},
     "output_type": "display_data"
    }
   ],
   "source": [
    "import ipywidgets as widgets\n",
    "from IPython.display import display\n",
    "import matplotlib.pyplot as plt\n",
    "import matplotlib.colors as mcolors\n",
    "import numpy as np\n",
    "\n",
    "def visualize_slices(im_data, lab_data, axis=0, subject_num=1):\n",
    "    \"\"\"\n",
    "    Visualizes slices of image and label data interactively with a legend for labels.\n",
    "    \n",
    "    Parameters:\n",
    "    - im_data: 3D numpy array of the image data.\n",
    "    - lab_data: 3D numpy array of the label data.\n",
    "    - axis: The axis along which to take slices (0, 1, or 2).\n",
    "    - subject_num: The subject number (for display purposes).\n",
    "    \"\"\"\n",
    "    # Determine the number of slices along the specified axis\n",
    "    num_slices = im_data.shape[axis]\n",
    "    \n",
    "    # Define a color map and bounds for the 7 labels including the background\n",
    "    colors = [\n",
    "        'black',        # Background\n",
    "        '#00FFFF',      # CSF - Cerebrospinal fluid, using cyan for a clearer representation\n",
    "        'darkgrey',     # GM - Grey matter, retained as dark grey\n",
    "        'lightgrey',    # WM - White matter, retained as light grey\n",
    "        'yellow',      # sGM \n",
    "        'red',      # BS - \n",
    "        'white'         # CB - Cerebellum, retained as white for clear visibility\n",
    "    ] \n",
    "\n",
    "    bounds = [0, 1, 2, 3, 4, 5, 6, 7]  # Bounds adjusted for 7 labels including the background\n",
    "    cmap = mcolors.ListedColormap(colors)\n",
    "    norm = mcolors.BoundaryNorm(bounds, cmap.N)\n",
    "    \n",
    "    def plot_slice(slice_idx):\n",
    "        \"\"\"\n",
    "        Plots a specific slice from both image and label data with a legend for the labels.\n",
    "        \n",
    "        Parameters:\n",
    "        - slice_idx: The index of the slice to plot.\n",
    "        \"\"\"\n",
    "        fig, ax = plt.subplots(1, 2, figsize=(12, 5))\n",
    "        \n",
    "        # Select the appropriate slice based on the axis\n",
    "        if axis == 0:\n",
    "            slice_im = im_data[slice_idx, :, :]\n",
    "            slice_lab = lab_data[slice_idx, :, :]\n",
    "        elif axis == 1:\n",
    "            slice_im = im_data[:, slice_idx, :]\n",
    "            slice_lab = lab_data[:, slice_idx, :]\n",
    "        else:  # axis == 2\n",
    "            slice_im = im_data[:, :, slice_idx]\n",
    "            slice_lab = lab_data[:, :, slice_idx]\n",
    "        \n",
    "        # Display the image slice\n",
    "        ax[0].imshow(slice_im, cmap='gray')\n",
    "        ax[0].set_title(f'Subject {subject_num} Image Slice {slice_idx}')\n",
    "        \n",
    "        # Display the label slice with a custom colormap\n",
    "        label_display = ax[1].imshow(slice_lab, cmap=cmap, norm=norm, interpolation='nearest')\n",
    "        ax[1].set_title(f'Subject {subject_num} Label Slice {slice_idx}')\n",
    "        \n",
    "        # Create a colorbar with specific labels for each class\n",
    "        cbar = fig.colorbar(label_display, ax=ax[1], ticks=[(i + 0.5) for i in range(7)], orientation='vertical')\n",
    "        cbar.ax.set_yticklabels(['Background', 'CSF', 'GM', 'WM', 'sGM', 'BS', 'CB'])  # Updated labels with specific names\n",
    "        \n",
    "        plt.show()\n",
    "    \n",
    "    # Create a slider widget for slice selection\n",
    "    slice_slider = widgets.IntSlider(min=0, max=num_slices-1, step=1, value=num_slices//2, description='Slice Index')\n",
    "    \n",
    "    # Use `interactive_output` to create interactive visualization without the need for a callback function\n",
    "    interactive_plot = widgets.interactive_output(plot_slice, {'slice_idx': slice_slider})\n",
    "    \n",
    "    # Display the slider and the output together\n",
    "    display(slice_slider, interactive_plot)\n",
    "\n",
    "\n",
    "\n",
    "visualize_slices(sub_1_im_data, sub_1_lab_data, axis=0, subject_num=1)\n"
   ]
  },
  {
   "cell_type": "code",
   "execution_count": 9,
   "metadata": {},
   "outputs": [
    {
     "name": "stderr",
     "output_type": "stream",
     "text": [
      "/tmp/ipykernel_47862/3199656658.py:72: DeprecationWarning: Starting with ImageIO v3 the behavior of this function will switch to that of iio.v3.imread. To keep the current behavior (and make this warning disappear) use `import imageio.v2 as imageio` or call `imageio.v2.imread` directly.\n",
      "  image = imageio.imread(image_path)\n"
     ]
    }
   ],
   "source": [
    "import ipywidgets as widgets\n",
    "from IPython.display import display\n",
    "import matplotlib.pyplot as plt\n",
    "import matplotlib.colors as mcolors\n",
    "import numpy as np\n",
    "import imageio\n",
    "\n",
    "def visualize_slices_to_gif(im_data, lab_data, axis=0, subject_num=1, output_filename='slices.gif', start_slice=0, end_slice=None):\n",
    "    \"\"\"\n",
    "    Saves slices of image and label data as a GIF.\n",
    "    \n",
    "    Parameters:\n",
    "    - im_data: 3D numpy array of the image data.\n",
    "    - lab_data: 3D numpy array of the label data.\n",
    "    - axis: The axis along which to take slices (0, 1, or 2).\n",
    "    - subject_num: The subject number (for display purposes).\n",
    "    - output_filename: The filename of the output GIF.\n",
    "    - start_slice, end_slice: Range of slices to include in the GIF.\n",
    "    \"\"\"\n",
    "    num_slices = im_data.shape[axis]\n",
    "    end_slice = end_slice or num_slices\n",
    "    \n",
    "    # Define a color map and bounds for the labels\n",
    "    colors = [\n",
    "        'black',        # Background\n",
    "        '#00FFFF',      # CSF - Cerebrospinal fluid, using cyan for a clearer representation\n",
    "        'darkgrey',     # GM - Grey matter, retained as dark grey\n",
    "        'lightgrey',    # WM - White matter, retained as light grey\n",
    "        'yellow',      # sGM \n",
    "        'red',      # BS - \n",
    "        'white'         # CB - Cerebellum, retained as white for clear visibility\n",
    "    ]\n",
    "    bounds = [0, 1, 2, 3, 4, 5, 6, 7]\n",
    "    cmap = mcolors.ListedColormap(colors)\n",
    "    norm = mcolors.BoundaryNorm(bounds, cmap.N)\n",
    "    \n",
    "    images = []  # To store the paths of saved images\n",
    "\n",
    "    for slice_idx in range(start_slice, min(end_slice, num_slices)):\n",
    "        fig, ax = plt.subplots(1, 2, figsize=(12, 5))\n",
    "        \n",
    "        # Selecting the appropriate slice\n",
    "        if axis == 0:\n",
    "            slice_im = im_data[slice_idx, :, :]\n",
    "            slice_lab = lab_data[slice_idx, :, :]\n",
    "        elif axis == 1:\n",
    "            slice_im = im_data[:, slice_idx, :]\n",
    "            slice_lab = lab_data[:, slice_idx, :]\n",
    "        else:  # axis == 2\n",
    "            slice_im = im_data[:, :, slice_idx]\n",
    "            slice_lab = lab_data[:, :, slice_idx]\n",
    "        \n",
    "        ax[0].imshow(slice_im, cmap='gray')\n",
    "        ax[0].set_title(f'Subject {subject_num} Image Slice {slice_idx}')\n",
    "        \n",
    "        label_display = ax[1].imshow(slice_lab, cmap=cmap, norm=norm, interpolation='nearest')\n",
    "        ax[1].set_title(f'Subject {subject_num} Label Slice {slice_idx}')\n",
    "        \n",
    "        cbar = fig.colorbar(label_display, ax=ax[1], ticks=[(i + 0.5) for i in range(7)], orientation='vertical')\n",
    "        cbar.ax.set_yticklabels(['Background', 'CSF', 'GM', 'WM', 'sGM', 'BS', 'CB'])\n",
    "        \n",
    "        # Save each slice as an image\n",
    "        image_path = f'temp_slice_{slice_idx}.png'\n",
    "        plt.savefig(image_path)\n",
    "        images.append(image_path)\n",
    "        \n",
    "        plt.close(fig)  # Close the figure to prevent it from displaying\n",
    "    \n",
    "    # Create a GIF from the saved images\n",
    "    with imageio.get_writer(output_filename, mode='I') as writer:\n",
    "        for image_path in images:\n",
    "            image = imageio.imread(image_path)\n",
    "            writer.append_data(image)\n",
    "    \n",
    "    # Optionally, you might want to clean up the temporary images here\n",
    "    # This step is skipped for clarity\n",
    "\n",
    "# Example usage\n",
    "visualize_slices_to_gif(sub_1_im_data, sub_1_lab_data, axis=0, subject_num=1, output_filename='slices.gif', start_slice=20, end_slice=149)\n"
   ]
  },
  {
   "cell_type": "code",
   "execution_count": null,
   "metadata": {},
   "outputs": [],
   "source": []
  }
 ],
 "metadata": {
  "kernelspec": {
   "display_name": "deep_neurosegmentation",
   "language": "python",
   "name": "python3"
  },
  "language_info": {
   "codemirror_mode": {
    "name": "ipython",
    "version": 3
   },
   "file_extension": ".py",
   "mimetype": "text/x-python",
   "name": "python",
   "nbconvert_exporter": "python",
   "pygments_lexer": "ipython3",
   "version": "3.10.13"
  }
 },
 "nbformat": 4,
 "nbformat_minor": 2
}
