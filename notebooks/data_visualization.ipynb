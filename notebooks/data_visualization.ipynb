{
 "cells": [
  {
   "cell_type": "code",
   "execution_count": 1,
   "metadata": {},
   "outputs": [
    {
     "data": {
      "application/vnd.jupyter.widget-view+json": {
       "model_id": "e9b8ef333608489493640dc7dc31ed9e",
       "version_major": 2,
       "version_minor": 0
      },
      "text/plain": [
       "IntSlider(value=91, description='Slice Index', max=181)"
      ]
     },
     "metadata": {},
     "output_type": "display_data"
    },
    {
     "data": {
      "application/vnd.jupyter.widget-view+json": {
       "model_id": "f58309459a6d49dab71cd3dafd071570",
       "version_major": 2,
       "version_minor": 0
      },
      "text/plain": [
       "Output()"
      ]
     },
     "metadata": {},
     "output_type": "display_data"
    },
    {
     "data": {
      "application/vnd.jupyter.widget-view+json": {
       "model_id": "6865ec8c020f4ec48ccba3ff2e39acd6",
       "version_major": 2,
       "version_minor": 0
      },
      "text/plain": [
       "IntSlider(value=91, description='Slice Index', max=181)"
      ]
     },
     "metadata": {},
     "output_type": "display_data"
    },
    {
     "data": {
      "application/vnd.jupyter.widget-view+json": {
       "model_id": "690a8fcaf08c4669a94e5441454e3363",
       "version_major": 2,
       "version_minor": 0
      },
      "text/plain": [
       "Output()"
      ]
     },
     "metadata": {},
     "output_type": "display_data"
    },
    {
     "data": {
      "application/vnd.jupyter.widget-view+json": {
       "model_id": "1549fa522d02435c9157ca88da8ec123",
       "version_major": 2,
       "version_minor": 0
      },
      "text/plain": [
       "IntSlider(value=91, description='Slice Index', max=181)"
      ]
     },
     "metadata": {},
     "output_type": "display_data"
    },
    {
     "data": {
      "application/vnd.jupyter.widget-view+json": {
       "model_id": "38417185759e4fbf8f0cac9cb331272e",
       "version_major": 2,
       "version_minor": 0
      },
      "text/plain": [
       "Output()"
      ]
     },
     "metadata": {},
     "output_type": "display_data"
    }
   ],
   "source": [
    "import sys\n",
    "from pathlib import Path\n",
    "\n",
    "# Assuming notebooks are one level deep in the project structure\n",
    "sys.path.insert(0, str(Path.cwd().parent))\n",
    "\n",
    "from config import config\n",
    "from utils.data_loading import *\n",
    "from utils.data_visualization import *\n",
    "import os\n",
    "iteration_1_path = \"/home/fp427/rds/rds-cam-segm-7tts6phZ4tw/deep-neurosegmentation/data/raw/BrainLife/DBB_jakob/iteration_1/sub-0010_im.nii.gz\"\n",
    "iteration_2_path = \"/home/fp427/rds/rds-cam-segm-7tts6phZ4tw/deep-neurosegmentation/data/raw/BrainLife/DBB_jakob/iteration_2/sub-0010_im.nii.gz\"\n",
    "dbb_path = \"/home/fp427/rds/rds-cam-segm-7tts6phZ4tw/deep-neurosegmentation/data/raw/BrainLife/DBB_jakob/sub-0010_parc.nii.gz\"\n",
    "\n",
    "visualize_t1_scan(im_path = iteration_1_path)\n",
    "visualize_t1_scan(im_path = iteration_2_path)\n",
    "visualize_t1_scan(im_path = dbb_path)"
   ]
  },
  {
   "cell_type": "code",
   "execution_count": null,
   "metadata": {},
   "outputs": [],
   "source": []
  }
 ],
 "metadata": {
  "kernelspec": {
   "display_name": "deep_neurosegmentation",
   "language": "python",
   "name": "python3"
  },
  "language_info": {
   "codemirror_mode": {
    "name": "ipython",
    "version": 3
   },
   "file_extension": ".py",
   "mimetype": "text/x-python",
   "name": "python",
   "nbconvert_exporter": "python",
   "pygments_lexer": "ipython3",
   "version": "3.10.14"
  }
 },
 "nbformat": 4,
 "nbformat_minor": 2
}
